{
 "cells": [
  {
   "cell_type": "markdown",
   "metadata": {},
   "source": [
    "### EDA and Cleaning\n"
   ]
  },
  {
   "cell_type": "code",
   "execution_count": null,
   "metadata": {},
   "outputs": [],
   "source": [
    "import pandas as pd\n",
    "data = pd.read_excel('Online Retail.xlsx')\n",
    "\n",
    "data.head()"
   ]
  },
  {
   "cell_type": "code",
   "execution_count": 5,
   "metadata": {},
   "outputs": [
    {
     "name": "stdout",
     "output_type": "stream",
     "text": [
      "<class 'pandas.core.frame.DataFrame'>\n",
      "RangeIndex: 541909 entries, 0 to 541908\n",
      "Data columns (total 8 columns):\n",
      " #   Column       Non-Null Count   Dtype         \n",
      "---  ------       --------------   -----         \n",
      " 0   InvoiceNo    541909 non-null  object        \n",
      " 1   StockCode    541909 non-null  object        \n",
      " 2   Description  540455 non-null  object        \n",
      " 3   Quantity     541909 non-null  int64         \n",
      " 4   InvoiceDate  541909 non-null  datetime64[ns]\n",
      " 5   UnitPrice    541909 non-null  float64       \n",
      " 6   CustomerID   406829 non-null  float64       \n",
      " 7   Country      541909 non-null  object        \n",
      "dtypes: datetime64[ns](1), float64(2), int64(1), object(4)\n",
      "memory usage: 33.1+ MB\n"
     ]
    }
   ],
   "source": [
    "data.info()"
   ]
  },
  {
   "cell_type": "code",
   "execution_count": 19,
   "metadata": {},
   "outputs": [
    {
     "name": "stdout",
     "output_type": "stream",
     "text": [
      "\n",
      "Missing Values:\n",
      "InvoiceNo           0\n",
      "StockCode           0\n",
      "Description      1454\n",
      "Quantity            0\n",
      "InvoiceDate         0\n",
      "UnitPrice           0\n",
      "CustomerID     135080\n",
      "Country             0\n",
      "dtype: int64\n",
      "\n",
      "Number of duplicate rows: 5268\n"
     ]
    }
   ],
   "source": [
    "print(\"\\nMissing Values:\")\n",
    "print(data.isnull().sum())\n",
    "\n",
    "print(\"\\nNumber of duplicate rows:\", data.duplicated().sum() )"
   ]
  },
  {
   "cell_type": "code",
   "execution_count": 20,
   "metadata": {},
   "outputs": [
    {
     "data": {
      "text/plain": [
       "(541909, 8)"
      ]
     },
     "execution_count": 20,
     "metadata": {},
     "output_type": "execute_result"
    }
   ],
   "source": [
    "data.shape"
   ]
  },
  {
   "cell_type": "code",
   "execution_count": 22,
   "metadata": {},
   "outputs": [
    {
     "data": {
      "text/plain": [
       "(401604, 8)"
      ]
     },
     "execution_count": 22,
     "metadata": {},
     "output_type": "execute_result"
    }
   ],
   "source": [
    "data = data.drop_duplicates()\n",
    "data = data.dropna(subset=['CustomerID'])\n",
    "data.shape"
   ]
  },
  {
   "cell_type": "code",
   "execution_count": 23,
   "metadata": {},
   "outputs": [
    {
     "name": "stdout",
     "output_type": "stream",
     "text": [
      "\n",
      "Unique Customers and Countries:\n",
      "Unique Customers: 4372\n",
      "Unique Countries: 37\n",
      "\n",
      "Unique Products:\n",
      "Unique Product Codes: 3684\n",
      "Unique Product Descriptions: 3896\n"
     ]
    }
   ],
   "source": [
    "# Check unique countries and unique customers\n",
    "print(\"\\nUnique Customers and Countries:\")\n",
    "print(f\"Unique Customers: {data['CustomerID'].nunique()}\")\n",
    "print(f\"Unique Countries: {data['Country'].nunique()}\")\n",
    "\n",
    "# Unique products\n",
    "print(\"\\nUnique Products:\")\n",
    "print(f\"Unique Product Codes: {data['StockCode'].nunique()}\")\n",
    "print(f\"Unique Product Descriptions: {data['Description'].nunique()}\")"
   ]
  },
  {
   "cell_type": "code",
   "execution_count": 13,
   "metadata": {},
   "outputs": [
    {
     "data": {
      "text/plain": [
       "38"
      ]
     },
     "execution_count": 13,
     "metadata": {},
     "output_type": "execute_result"
    }
   ],
   "source": [
    "data['Country'].nunique()"
   ]
  },
  {
   "cell_type": "code",
   "execution_count": 24,
   "metadata": {},
   "outputs": [
    {
     "name": "stdout",
     "output_type": "stream",
     "text": [
      "\n",
      "Number of rows with negative or zero quantities: 8872\n",
      "Dataset after removing rows with negative or zero quantities: (392732, 8)\n"
     ]
    }
   ],
   "source": [
    "# Check for negative or zero quantities\n",
    "negative_quantities = data[data['Quantity'] <= 0]\n",
    "print(f\"\\nNumber of rows with negative or zero quantities: {negative_quantities.shape[0]}\")\n",
    "\n",
    "# Remove rows with negative or zero quantities\n",
    "data = data[data['Quantity'] > 0]\n",
    "print(f\"Dataset after removing rows with negative or zero quantities: {data.shape}\")"
   ]
  },
  {
   "cell_type": "code",
   "execution_count": 25,
   "metadata": {},
   "outputs": [
    {
     "name": "stdout",
     "output_type": "stream",
     "text": [
      "Country Distribution:\n",
      "Country\n",
      "United Kingdom          349227\n",
      "Germany                   9027\n",
      "France                    8327\n",
      "EIRE                      7228\n",
      "Spain                     2480\n",
      "Netherlands               2363\n",
      "Belgium                   2031\n",
      "Switzerland               1842\n",
      "Portugal                  1453\n",
      "Australia                 1184\n",
      "Norway                    1072\n",
      "Italy                      758\n",
      "Channel Islands            747\n",
      "Finland                    685\n",
      "Cyprus                     603\n",
      "Sweden                     450\n",
      "Austria                    398\n",
      "Denmark                    380\n",
      "Poland                     330\n",
      "Japan                      321\n",
      "Israel                     245\n",
      "Unspecified                241\n",
      "Singapore                  222\n",
      "Iceland                    182\n",
      "USA                        179\n",
      "Canada                     151\n",
      "Greece                     145\n",
      "Malta                      112\n",
      "United Arab Emirates        68\n",
      "European Community          60\n",
      "RSA                         58\n",
      "Lebanon                     45\n",
      "Lithuania                   35\n",
      "Brazil                      32\n",
      "Czech Republic              25\n",
      "Bahrain                     17\n",
      "Saudi Arabia                 9\n",
      "Name: count, dtype: int64\n"
     ]
    }
   ],
   "source": [
    "# Check the country distribution\n",
    "print(\"Country Distribution:\")\n",
    "print(data['Country'].value_counts())"
   ]
  },
  {
   "cell_type": "code",
   "execution_count": 38,
   "metadata": {},
   "outputs": [
    {
     "name": "stdout",
     "output_type": "stream",
     "text": [
      "Dataset after removing 'Unspecified' countries: (392431, 8)\n"
     ]
    }
   ],
   "source": [
    "# Handle \"Unspecified\" countries by dropping those rows\n",
    "data = data[data['Country'] != 'Unspecified']\n",
    "data = data[data['Country'] != 'European Community']\n",
    "print(f\"Dataset after removing 'Unspecified' countries: {data.shape}\")"
   ]
  },
  {
   "cell_type": "code",
   "execution_count": 39,
   "metadata": {},
   "outputs": [
    {
     "data": {
      "text/plain": [
       "array(['United Kingdom', 'France', 'Australia', 'Netherlands', 'Germany',\n",
       "       'Norway', 'EIRE', 'Switzerland', 'Spain', 'Poland', 'Portugal',\n",
       "       'Italy', 'Belgium', 'Lithuania', 'Japan', 'Iceland',\n",
       "       'Channel Islands', 'Denmark', 'Cyprus', 'Sweden', 'Finland',\n",
       "       'Austria', 'Greece', 'Singapore', 'Lebanon',\n",
       "       'United Arab Emirates', 'Israel', 'Saudi Arabia', 'Czech Republic',\n",
       "       'Canada', 'Brazil', 'USA', 'Bahrain', 'Malta', 'RSA'], dtype=object)"
      ]
     },
     "execution_count": 39,
     "metadata": {},
     "output_type": "execute_result"
    }
   ],
   "source": [
    "# Print unique countries\n",
    "data['Country'].unique()"
   ]
  },
  {
   "cell_type": "code",
   "execution_count": 40,
   "metadata": {},
   "outputs": [
    {
     "name": "stdout",
     "output_type": "stream",
     "text": [
      "<class 'pandas.core.frame.DataFrame'>\n",
      "Index: 392431 entries, 0 to 541908\n",
      "Data columns (total 8 columns):\n",
      " #   Column       Non-Null Count   Dtype         \n",
      "---  ------       --------------   -----         \n",
      " 0   InvoiceNo    392431 non-null  object        \n",
      " 1   StockCode    392431 non-null  object        \n",
      " 2   Description  392431 non-null  object        \n",
      " 3   Quantity     392431 non-null  int64         \n",
      " 4   InvoiceDate  392431 non-null  datetime64[ns]\n",
      " 5   UnitPrice    392431 non-null  float64       \n",
      " 6   CustomerID   392431 non-null  float64       \n",
      " 7   Country      392431 non-null  object        \n",
      "dtypes: datetime64[ns](1), float64(2), int64(1), object(4)\n",
      "memory usage: 26.9+ MB\n"
     ]
    }
   ],
   "source": [
    "data.info()"
   ]
  },
  {
   "cell_type": "code",
   "execution_count": 44,
   "metadata": {},
   "outputs": [],
   "source": [
    "data.to_excel(\"cleaned-data.xlsx\", index=False)"
   ]
  }
 ],
 "metadata": {
  "kernelspec": {
   "display_name": "base",
   "language": "python",
   "name": "python3"
  },
  "language_info": {
   "codemirror_mode": {
    "name": "ipython",
    "version": 3
   },
   "file_extension": ".py",
   "mimetype": "text/x-python",
   "name": "python",
   "nbconvert_exporter": "python",
   "pygments_lexer": "ipython3",
   "version": "3.11.7"
  }
 },
 "nbformat": 4,
 "nbformat_minor": 2
}
